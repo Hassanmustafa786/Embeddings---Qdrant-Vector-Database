{
 "cells": [
  {
   "cell_type": "markdown",
   "metadata": {},
   "source": [
    "# Getting started with Qdrant\n",
    "- docker pull qdrant/qdrant\n",
    "- pip install qdrant-client\n",
    "- docker run -p 6333:6333 \\\n",
    "    -v \"/Users/owner/My Drive/Hassan USB Data/Bytewise NLP/Week-7/qdrant_storage\":/qdrant/storage \\\n",
    "    qdrant/qdrant"
   ]
  },
  {
   "cell_type": "code",
   "execution_count": 1,
   "metadata": {},
   "outputs": [],
   "source": [
    "from qdrant_client import QdrantClient\n",
    "from qdrant_client.http import models\n",
    "import numpy as np\n",
    "from faker import Faker"
   ]
  },
  {
   "cell_type": "code",
   "execution_count": 2,
   "metadata": {},
   "outputs": [
    {
     "data": {
      "text/plain": [
       "<qdrant_client.qdrant_client.QdrantClient at 0x12de4bbb0>"
      ]
     },
     "execution_count": 2,
     "metadata": {},
     "output_type": "execute_result"
    }
   ],
   "source": [
    "client = QdrantClient(host='localhost', port=6333)\n",
    "client"
   ]
  },
  {
   "cell_type": "code",
   "execution_count": 3,
   "metadata": {},
   "outputs": [
    {
     "data": {
      "text/plain": [
       "True"
      ]
     },
     "execution_count": 3,
     "metadata": {},
     "output_type": "execute_result"
    }
   ],
   "source": [
    "my_collection = \"first_collection\"\n",
    "\n",
    "client.create_collection(\n",
    "    collection_name=my_collection,\n",
    "    vectors_config=models.VectorParams(size=100, distance=models.Distance.COSINE)\n",
    ")"
   ]
  },
  {
   "cell_type": "code",
   "execution_count": 4,
   "metadata": {},
   "outputs": [],
   "source": [
    "data = np.random.uniform(low=-1.0, high=1.0, size=(1_000, 100))\n",
    "index = list(range(1_000))"
   ]
  },
  {
   "cell_type": "code",
   "execution_count": 5,
   "metadata": {},
   "outputs": [
    {
     "data": {
      "text/plain": [
       "array([[ 0.62174162, -0.22737851, -0.19247083,  0.36214789, -0.57036391,\n",
       "         0.34414786,  0.44117659,  0.87380479,  0.48389729,  0.05476591],\n",
       "       [ 0.25105075, -0.50654533, -0.33987496,  0.55682801, -0.10625697,\n",
       "        -0.400845  , -0.60088968,  0.90730403,  0.5552701 ,  0.34799923]])"
      ]
     },
     "execution_count": 5,
     "metadata": {},
     "output_type": "execute_result"
    }
   ],
   "source": [
    "data[:2, :10]"
   ]
  },
  {
   "cell_type": "code",
   "execution_count": 6,
   "metadata": {},
   "outputs": [
    {
     "data": {
      "text/plain": [
       "[990, 991, 992, 993, 994, 995, 996, 997, 998, 999]"
      ]
     },
     "execution_count": 6,
     "metadata": {},
     "output_type": "execute_result"
    }
   ],
   "source": [
    "index[-10:]"
   ]
  },
  {
   "cell_type": "code",
   "execution_count": 7,
   "metadata": {},
   "outputs": [
    {
     "data": {
      "text/plain": [
       "UpdateResult(operation_id=0, status=<UpdateStatus.COMPLETED: 'completed'>)"
      ]
     },
     "execution_count": 7,
     "metadata": {},
     "output_type": "execute_result"
    }
   ],
   "source": [
    "client.upsert(\n",
    "    collection_name=my_collection,\n",
    "    points=models.Batch(\n",
    "        ids=index,\n",
    "        vectors=data.tolist()\n",
    "    )\n",
    ")"
   ]
  },
  {
   "cell_type": "code",
   "execution_count": 8,
   "metadata": {},
   "outputs": [
    {
     "data": {
      "text/plain": [
       "[Record(id=10, payload={}, vector=[-0.1481729, 0.07159006, 0.017185664, -0.15002374, -0.12976392, 0.05501445, -0.1036878, 0.018570684, -0.14266737, 0.14458156, 0.103912205, -0.049660064, -0.11389946, 0.10283228, 0.095634095, 0.08509278, -0.0017561507, 0.14733258, 0.08717879, -0.10328318, 0.056152616, -0.16541803, 0.020163536, 0.11143037, -0.05480359, -0.14991352, 0.12615222, -0.013559007, -0.12850963, 0.07228288, 0.027351879, -0.08957317, -0.04636332, -0.054671384, 0.16437618, -0.013668075, 0.16676311, -0.02448308, 0.045603108, -0.05479249, -0.16359335, -0.024828032, -0.12092424, -0.025858251, -0.13984764, -0.088476, 0.0012707952, -0.0031020115, -0.15867376, -0.016882027, 0.0686616, -0.14513955, -0.14683184, 0.15632734, 0.057631362, 0.08902521, 0.057388283, -0.048147358, -0.039293256, 0.13749804, -0.04997833, -0.16732912, 0.07259329, 0.022758177, -0.07115, 0.05118321, 0.030441122, -0.16814737, 0.004718002, -0.042033527, -0.03563422, -0.09749776, 0.14588171, -0.09425704, -0.083726265, -0.16440025, -0.11082059, 0.15395461, 0.072517656, -0.007171661, 0.12511158, -0.007227304, -0.018910158, -0.13661838, -0.14885423, -0.06654571, -0.059165772, 0.11267438, -0.0844358, 0.11532357, -0.022229351, -0.11628326, 0.16145375, 0.10239589, -0.15406413, 0.02455572, -0.053271394, 0.09243172, -0.046649598, -0.1456489], shard_key=None, order_value=None),\n",
       " Record(id=14, payload={}, vector=[0.048029225, 0.018201495, -0.17923069, -0.044077944, -0.018020043, -0.11018736, 0.13301238, -0.07081169, 0.028708851, -0.1576938, 0.15765516, 0.1419661, 0.035221573, 0.09807114, -0.10873747, -0.004182279, -0.12885882, -0.08443091, 0.17367059, 0.095694505, 0.0804825, -0.10472023, -0.1547558, 0.11716675, -0.16426633, 0.029008713, -0.06020666, 0.08922879, 0.12086568, 0.04231705, -0.116196066, 0.015446, 0.03019739, -0.003720619, -0.15855533, -0.07226885, 0.14792797, 0.092129506, 0.16837648, 0.06547279, -0.08629075, -0.034662068, -0.05949979, 0.02283858, 0.10084846, -0.1254963, 0.17217067, 0.14688213, 0.17557973, -0.11325456, 0.019632796, 0.009374668, 0.123178594, -0.16964173, 0.011107304, -0.048827015, 0.06813612, -0.12258571, -0.020830804, -0.014486658, 0.07315589, -0.048034433, -0.061903957, -0.13053629, -0.005790328, 0.07593134, 0.10845615, -0.075328894, 0.012659293, 0.07167847, -0.11471112, 0.15387781, -0.022104705, -0.067501575, 0.0114790965, 0.15346575, 0.0035112693, -0.089884475, 0.06597552, -0.033873465, -0.1195063, -0.11623973, 0.17497094, 0.13218743, 0.08229176, 0.17803937, 0.053134147, -0.063887596, -0.059909035, 0.1379575, 0.1278248, 0.04643752, -0.15162867, 0.08047335, -0.13317433, -0.0030124548, 0.056350812, 0.047203824, -0.026561964, 0.00616761], shard_key=None, order_value=None),\n",
       " Record(id=500, payload={}, vector=[0.095329426, -0.11185786, -0.112403125, 0.018655222, -0.065425426, -0.15186606, -0.12217025, 0.12930524, 0.031149749, 0.14533599, -0.13254082, -0.007353879, 0.15521877, 0.12019097, 0.1359423, -0.096245915, 0.14530224, -0.10128424, 0.15381686, -0.15175262, 0.10748074, 0.11504504, 0.012807023, 0.057157107, 0.14697585, 0.03277172, -0.06265078, -0.12143663, 0.09118653, -0.081648506, -0.1495662, 0.10923473, 0.056632176, -0.021915661, -0.028630683, -0.15337041, 0.09210362, 0.12884736, 0.09273214, 0.12647982, 0.06976409, -0.09616861, -0.09494651, -0.04716447, 0.0038793208, -0.05555043, -0.14638482, -0.07510371, -0.140035, 0.069268934, 0.09595082, -0.13125455, -0.06422701, -0.024319187, 0.047317024, 0.039535124, -0.0494193, 0.14471425, -0.06125393, -0.0645302, 0.022275206, 0.014044063, -0.045637187, 0.06996375, -0.06354566, 0.09377297, 0.040539738, 0.078215376, -0.15464298, -0.08939145, -0.12722552, -0.1035697, -0.054051854, 0.0616642, -0.13267006, 0.125817, -0.07421032, -0.0735541, 0.011795322, -0.020876627, 0.15096068, 0.021237692, 0.09810687, 0.11071961, 0.12397595, 0.10685545, 0.1303093, 0.1305379, 0.08755495, 0.07517332, -0.1504364, 0.115111895, -0.053141564, -0.106042184, 0.09309745, 0.10910356, 0.02750154, 0.114831604, 0.1368546, -0.1358413], shard_key=None, order_value=None)]"
      ]
     },
     "execution_count": 8,
     "metadata": {},
     "output_type": "execute_result"
    }
   ],
   "source": [
    "client.retrieve(\n",
    "    collection_name=my_collection,\n",
    "    ids=[10, 14, 500],\n",
    "    with_vectors=True\n",
    ")"
   ]
  },
  {
   "cell_type": "code",
   "execution_count": 9,
   "metadata": {},
   "outputs": [
    {
     "data": {
      "text/plain": [
       "('Colleen Murphy', '87348 Cody Junctions\\nErinview, SC 61442')"
      ]
     },
     "execution_count": 9,
     "metadata": {},
     "output_type": "execute_result"
    }
   ],
   "source": [
    "fake_something = Faker()\n",
    "fake_something.name(), fake_something.address()"
   ]
  },
  {
   "cell_type": "code",
   "execution_count": 10,
   "metadata": {},
   "outputs": [],
   "source": [
    "payload = []\n",
    "\n",
    "for i in range(1_000):\n",
    "    payload.append(\n",
    "        {\n",
    "            \"artist\": fake_something.name(),\n",
    "            \"song\": \" \".join(fake_something.words()),\n",
    "            \"url_song\": fake_something.url(),\n",
    "            \"year\": fake_something.year(),\n",
    "            \"country\": fake_something.country()\n",
    "        }\n",
    "    )"
   ]
  },
  {
   "cell_type": "code",
   "execution_count": 11,
   "metadata": {},
   "outputs": [
    {
     "data": {
      "text/plain": [
       "[{'artist': 'Jeffrey Simmons',\n",
       "  'song': 'continue red PM',\n",
       "  'url_song': 'http://www.wilson.biz/',\n",
       "  'year': '1999',\n",
       "  'country': 'Northern Mariana Islands'},\n",
       " {'artist': 'Jacqueline Chang',\n",
       "  'song': 'tough including administration',\n",
       "  'url_song': 'https://davis.com/',\n",
       "  'year': '2001',\n",
       "  'country': 'Kenya'},\n",
       " {'artist': 'Rhonda Smith',\n",
       "  'song': 'hit president pressure',\n",
       "  'url_song': 'https://davidson.com/',\n",
       "  'year': '2016',\n",
       "  'country': 'Georgia'}]"
      ]
     },
     "execution_count": 11,
     "metadata": {},
     "output_type": "execute_result"
    }
   ],
   "source": [
    "payload[:3]"
   ]
  },
  {
   "cell_type": "code",
   "execution_count": 12,
   "metadata": {},
   "outputs": [
    {
     "data": {
      "text/plain": [
       "UpdateResult(operation_id=1, status=<UpdateStatus.COMPLETED: 'completed'>)"
      ]
     },
     "execution_count": 12,
     "metadata": {},
     "output_type": "execute_result"
    }
   ],
   "source": [
    "client.upsert(\n",
    "    collection_name=my_collection,\n",
    "    points=models.Batch(\n",
    "        ids=index,\n",
    "        vectors=data.tolist(),\n",
    "        payloads=payload\n",
    "    )\n",
    ")"
   ]
  },
  {
   "cell_type": "markdown",
   "metadata": {},
   "source": [
    "# Semantic Search"
   ]
  },
  {
   "cell_type": "code",
   "execution_count": 13,
   "metadata": {},
   "outputs": [
    {
     "data": {
      "text/plain": [
       "[0.6724612498809848,\n",
       " -0.7027943029421551,\n",
       " -0.3850494212156079,\n",
       " 0.09737858905848151,\n",
       " 0.5824098885488496]"
      ]
     },
     "execution_count": 13,
     "metadata": {},
     "output_type": "execute_result"
    }
   ],
   "source": [
    "living_la_vida_loca = np.random.uniform(low=-1.0, high=1.0, size=(100)).tolist()\n",
    "living_la_vida_loca[:5]"
   ]
  },
  {
   "cell_type": "code",
   "execution_count": 14,
   "metadata": {},
   "outputs": [
    {
     "data": {
      "text/plain": [
       "[ScoredPoint(id=118, version=1, score=0.32283297, payload={'artist': 'Allison Hogan', 'song': 'before military administration', 'url_song': 'http://www.montgomery-hill.net/', 'year': '1974', 'country': 'Dominica'}, vector=None, shard_key=None, order_value=None),\n",
       " ScoredPoint(id=419, version=1, score=0.3039455, payload={'artist': 'Mary Stewart', 'song': 'respond quite major', 'url_song': 'https://www.walsh.com/', 'year': '2019', 'country': 'Iceland'}, vector=None, shard_key=None, order_value=None),\n",
       " ScoredPoint(id=401, version=1, score=0.3019799, payload={'artist': 'Tyler Chambers', 'song': 'help successful chair', 'url_song': 'https://www.ross.info/', 'year': '2012', 'country': 'France'}, vector=None, shard_key=None, order_value=None),\n",
       " ScoredPoint(id=430, version=1, score=0.2847665, payload={'artist': 'Brad Williams', 'song': 'young letter entire', 'url_song': 'http://sanchez-williams.com/', 'year': '1972', 'country': 'Reunion'}, vector=None, shard_key=None, order_value=None),\n",
       " ScoredPoint(id=64, version=1, score=0.26578623, payload={'artist': 'Brenda Davis MD', 'song': 'road admit hour', 'url_song': 'http://www.johnson.info/', 'year': '1979', 'country': 'Tajikistan'}, vector=None, shard_key=None, order_value=None),\n",
       " ScoredPoint(id=335, version=1, score=0.24861504, payload={'artist': 'Darin Castillo', 'song': 'oil cultural forward', 'url_song': 'https://www.chavez-rivera.com/', 'year': '2011', 'country': 'Haiti'}, vector=None, shard_key=None, order_value=None),\n",
       " ScoredPoint(id=718, version=1, score=0.24219668, payload={'artist': 'Kimberly West', 'song': 'different how Democrat', 'url_song': 'http://www.zavala.org/', 'year': '1976', 'country': 'United Kingdom'}, vector=None, shard_key=None, order_value=None),\n",
       " ScoredPoint(id=443, version=1, score=0.2408083, payload={'artist': 'Lisa Williams', 'song': 'as kitchen daughter', 'url_song': 'http://www.joseph.com/', 'year': '1999', 'country': 'Togo'}, vector=None, shard_key=None, order_value=None),\n",
       " ScoredPoint(id=487, version=1, score=0.23487063, payload={'artist': 'Beth Taylor', 'song': 'eight author ability', 'url_song': 'https://avery.net/', 'year': '1976', 'country': 'Paraguay'}, vector=None, shard_key=None, order_value=None),\n",
       " ScoredPoint(id=41, version=1, score=0.23230878, payload={'artist': 'Cory Williams', 'song': 'kitchen already TV', 'url_song': 'https://rivas-clark.com/', 'year': '2010', 'country': 'South Africa'}, vector=None, shard_key=None, order_value=None)]"
      ]
     },
     "execution_count": 14,
     "metadata": {},
     "output_type": "execute_result"
    }
   ],
   "source": [
    "client.search(\n",
    "    collection_name=my_collection,\n",
    "    query_vector=living_la_vida_loca,\n",
    "    limit=10,\n",
    ")"
   ]
  },
  {
   "cell_type": "code",
   "execution_count": 15,
   "metadata": {},
   "outputs": [
    {
     "data": {
      "text/plain": [
       "Filter(should=None, min_should=None, must=[FieldCondition(key='country', match=MatchValue(value='Australia'), range=None, geo_bounding_box=None, geo_radius=None, geo_polygon=None, values_count=None)], must_not=None)"
      ]
     },
     "execution_count": 15,
     "metadata": {},
     "output_type": "execute_result"
    }
   ],
   "source": [
    "aussie_songs = models.Filter(\n",
    "    must=[\n",
    "        models.FieldCondition(\n",
    "            key=\"country\", match=models.MatchValue(value=\"Australia\")\n",
    "        )\n",
    "    ]\n",
    ")\n",
    "aussie_songs"
   ]
  },
  {
   "cell_type": "code",
   "execution_count": 16,
   "metadata": {},
   "outputs": [
    {
     "data": {
      "text/plain": [
       "[ScoredPoint(id=802, version=1, score=0.17539875, payload={'artist': 'Edward Reid', 'song': 'bring short off', 'url_song': 'http://www.collins.com/', 'year': '1990', 'country': 'Australia'}, vector=None, shard_key=None, order_value=None),\n",
       " ScoredPoint(id=502, version=1, score=0.035846148, payload={'artist': 'Terry Jones', 'song': 'dinner remember point', 'url_song': 'http://www.moore.biz/', 'year': '2002', 'country': 'Australia'}, vector=None, shard_key=None, order_value=None)]"
      ]
     },
     "execution_count": 16,
     "metadata": {},
     "output_type": "execute_result"
    }
   ],
   "source": [
    "client.search(\n",
    "    collection_name=my_collection,\n",
    "    query_vector=living_la_vida_loca,\n",
    "    query_filter=aussie_songs,\n",
    "    limit=3,\n",
    ")"
   ]
  },
  {
   "cell_type": "markdown",
   "metadata": {},
   "source": [
    "# Recommendation"
   ]
  },
  {
   "cell_type": "code",
   "execution_count": 19,
   "metadata": {},
   "outputs": [
    {
     "data": {
      "text/plain": [
       "[ScoredPoint(id=251, version=1, score=0.32193896, payload={'artist': 'Kimberly Johnson', 'song': 'above at southern', 'url_song': 'https://www.stewart-riddle.com/', 'year': '2011', 'country': 'Netherlands Antilles'}, vector=None, shard_key=None, order_value=None),\n",
       " ScoredPoint(id=514, version=1, score=0.28672972, payload={'artist': 'James Jones', 'song': 'high animal money', 'url_song': 'https://martinez-morris.net/', 'year': '2019', 'country': 'Guam'}, vector=None, shard_key=None, order_value=None),\n",
       " ScoredPoint(id=884, version=1, score=0.271711, payload={'artist': 'Kelly Thomas', 'song': 'economy job later', 'url_song': 'http://jacobs.com/', 'year': '1976', 'country': 'Isle of Man'}, vector=None, shard_key=None, order_value=None),\n",
       " ScoredPoint(id=74, version=1, score=0.2685091, payload={'artist': 'James Cunningham', 'song': 'do quickly beautiful', 'url_song': 'http://carter.com/', 'year': '2022', 'country': 'Rwanda'}, vector=None, shard_key=None, order_value=None),\n",
       " ScoredPoint(id=253, version=1, score=0.26358116, payload={'artist': 'Natasha Sanchez', 'song': 'face view through', 'url_song': 'https://www.miranda.info/', 'year': '1975', 'country': 'Sierra Leone'}, vector=None, shard_key=None, order_value=None)]"
      ]
     },
     "execution_count": 19,
     "metadata": {},
     "output_type": "execute_result"
    }
   ],
   "source": [
    "client.recommend(\n",
    "    collection_name=my_collection,\n",
    "    # query_vector=living_la_vida_loca,\n",
    "    positive=[17],\n",
    "    negative=[],\n",
    "    limit=5\n",
    ")"
   ]
  },
  {
   "cell_type": "code",
   "execution_count": 52,
   "metadata": {},
   "outputs": [
    {
     "data": {
      "text/plain": [
       "[ScoredPoint(id=466, version=2, score=0.03346069, payload={'artist': 'Joseph Cook', 'song': 'kid hospital they', 'url_song': 'http://tyler-saunders.biz/', 'year': '1991', 'country': 'Dominican Republic'}, vector=None, shard_key=None, order_value=None),\n",
       " ScoredPoint(id=697, version=2, score=-0.00867709, payload={'artist': 'Kyle Rowe', 'song': 'thousand get those', 'url_song': 'http://www.wise.net/', 'year': '2007', 'country': 'Dominican Republic'}, vector=None, shard_key=None, order_value=None),\n",
       " ScoredPoint(id=952, version=2, score=-0.15169385, payload={'artist': 'Rachel Stafford', 'song': 'purpose small throughout', 'url_song': 'https://www.gray.com/', 'year': '1976', 'country': 'Dominican Republic'}, vector=None, shard_key=None, order_value=None)]"
      ]
     },
     "execution_count": 52,
     "metadata": {},
     "output_type": "execute_result"
    }
   ],
   "source": [
    "client.recommend(\n",
    "    collection_name=my_collection,\n",
    "    # query_vector=living_la_vida_loca,\n",
    "    positive=[17, 777],\n",
    "    negative=[100, 444],\n",
    "    query_filter=models.Filter(\n",
    "    must=[\n",
    "        models.FieldCondition(\n",
    "            key=\"country\", match=models.MatchValue(value=\"Dominican Republic\")\n",
    "        )\n",
    "    ]\n",
    "),\n",
    "    limit=5\n",
    ")"
   ]
  },
  {
   "cell_type": "code",
   "execution_count": null,
   "metadata": {},
   "outputs": [],
   "source": []
  }
 ],
 "metadata": {
  "kernelspec": {
   "display_name": "env",
   "language": "python",
   "name": "python3"
  },
  "language_info": {
   "codemirror_mode": {
    "name": "ipython",
    "version": 3
   },
   "file_extension": ".py",
   "mimetype": "text/x-python",
   "name": "python",
   "nbconvert_exporter": "python",
   "pygments_lexer": "ipython3",
   "version": "3.10.0"
  }
 },
 "nbformat": 4,
 "nbformat_minor": 2
}

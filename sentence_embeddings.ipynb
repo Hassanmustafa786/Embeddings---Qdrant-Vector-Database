{
 "cells": [
  {
   "cell_type": "markdown",
   "metadata": {},
   "source": [
    "! pip install sentence-transformers\n",
    "\n",
    "⚠️ This model is deprecated. Please don't use it as it produces sentence embeddings of low quality. You can find recommended sentence embedding models here: SBERT.net - Pretrained Models"
   ]
  },
  {
   "cell_type": "code",
   "execution_count": null,
   "metadata": {},
   "outputs": [],
   "source": [
    "# Make sure your numpy version should be less than 2\n",
    "# pip install \"numpy<2\"\n",
    "# pip install setuptools\n",
    "\n",
    "import numpy as np\n",
    "print(np.__version__)"
   ]
  },
  {
   "cell_type": "code",
   "execution_count": 2,
   "metadata": {},
   "outputs": [],
   "source": [
    "import warnings\n",
    "warnings.filterwarnings(\"ignore\")"
   ]
  },
  {
   "cell_type": "code",
   "execution_count": 25,
   "metadata": {},
   "outputs": [
    {
     "data": {
      "text/plain": [
       "SentenceTransformer(\n",
       "  (0): Transformer({'max_seq_length': 128, 'do_lower_case': False}) with Transformer model: BertModel \n",
       "  (1): Pooling({'word_embedding_dimension': 768, 'pooling_mode_cls_token': False, 'pooling_mode_mean_tokens': True, 'pooling_mode_max_tokens': False, 'pooling_mode_mean_sqrt_len_tokens': False, 'pooling_mode_weightedmean_tokens': False, 'pooling_mode_lasttoken': False, 'include_prompt': True})\n",
       ")"
      ]
     },
     "execution_count": 25,
     "metadata": {},
     "output_type": "execute_result"
    }
   ],
   "source": [
    "from sentence_transformers import SentenceTransformer\n",
    "\n",
    "# Original sBERT model\n",
    "model = SentenceTransformer(\"bert-base-nli-mean-tokens\", device='mps')\n",
    "model"
   ]
  },
  {
   "cell_type": "code",
   "execution_count": 26,
   "metadata": {},
   "outputs": [],
   "source": [
    "sentences = [\n",
    "    \"The product broke after just one use. It's a complete waste of money.\",\n",
    "    \"The customer service was outstanding. They resolved my issue in no time.\",\n",
    "    \"The customer service was rude and unhelpful. They didn't solve my issue.\",\n",
    "    \"This restaurant has the best food I've ever tasted. Highly recommended!\",\n",
    "    \"The food at the restaurant was bland and overpriced. I won't be returning.\",\n",
    "]"
   ]
  },
  {
   "cell_type": "code",
   "execution_count": 27,
   "metadata": {},
   "outputs": [
    {
     "data": {
      "text/plain": [
       "array([[ 0.04416141,  0.85962325,  0.322908  , ..., -0.10212316,\n",
       "         0.02912107,  0.10300066],\n",
       "       [-0.6835112 ,  0.2801528 ,  1.2093686 , ...,  0.21245642,\n",
       "        -0.5346687 ,  0.01558512],\n",
       "       [ 0.4265857 ,  1.0221977 ,  1.0565615 , ...,  0.3642277 ,\n",
       "        -0.6256373 ,  0.33249593],\n",
       "       [-0.5096379 ,  0.66958654,  0.17746992, ..., -0.31705126,\n",
       "        -0.03200574, -0.42053893],\n",
       "       [ 0.31733373,  1.0328041 ,  0.39055634, ...,  0.3772787 ,\n",
       "        -0.1045844 , -0.15634419]], dtype=float32)"
      ]
     },
     "execution_count": 27,
     "metadata": {},
     "output_type": "execute_result"
    }
   ],
   "source": [
    "embeddings = model.encode(sentences)\n",
    "embeddings"
   ]
  },
  {
   "cell_type": "code",
   "execution_count": 28,
   "metadata": {},
   "outputs": [
    {
     "data": {
      "text/plain": [
       "(5, 768)"
      ]
     },
     "execution_count": 28,
     "metadata": {},
     "output_type": "execute_result"
    }
   ],
   "source": [
    "embeddings.shape"
   ]
  },
  {
   "cell_type": "code",
   "execution_count": 29,
   "metadata": {},
   "outputs": [
    {
     "data": {
      "text/plain": [
       "tensor([[1.0000, 0.3871, 0.7833, 0.2568, 0.6498],\n",
       "        [0.3871, 1.0000, 0.3689, 0.5924, 0.3290],\n",
       "        [0.7833, 0.3689, 1.0000, 0.2112, 0.6950],\n",
       "        [0.2568, 0.5924, 0.2112, 1.0000, 0.3831],\n",
       "        [0.6498, 0.3290, 0.6950, 0.3831, 1.0000]])"
      ]
     },
     "execution_count": 29,
     "metadata": {},
     "output_type": "execute_result"
    }
   ],
   "source": [
    "# Semantic Search\n",
    "similarities = model.similarity(embeddings, embeddings)\n",
    "similarities"
   ]
  },
  {
   "cell_type": "code",
   "execution_count": 30,
   "metadata": {},
   "outputs": [
    {
     "data": {
      "text/plain": [
       "array([[1.        , 0.        , 0.        , 0.        , 0.        ],\n",
       "       [0.3870562 , 0.99999988, 0.        , 0.        , 0.        ],\n",
       "       [0.78332233, 0.36885166, 0.99999994, 0.        , 0.        ],\n",
       "       [0.25681293, 0.59236181, 0.2111831 , 0.99999994, 0.        ],\n",
       "       [0.64977181, 0.32903916, 0.69502127, 0.3830719 , 1.00000012]])"
      ]
     },
     "execution_count": 30,
     "metadata": {},
     "output_type": "execute_result"
    }
   ],
   "source": [
    "import numpy as np\n",
    "from sentence_transformers.util import cos_sim\n",
    "\n",
    "sim = np.zeros((len(sentences), len(sentences)))\n",
    "\n",
    "for i in range(len(sentences)):\n",
    "    sim[i:, i] = cos_sim(embeddings[i], embeddings[i:])\n",
    "\n",
    "sim"
   ]
  },
  {
   "cell_type": "code",
   "execution_count": 31,
   "metadata": {},
   "outputs": [
    {
     "data": {
      "text/plain": [
       "<Axes: >"
      ]
     },
     "execution_count": 31,
     "metadata": {},
     "output_type": "execute_result"
    },
    {
     "data": {
      "image/png": "[encoded data removed]",
      "text/plain": [
       "<Figure size 640x480 with 2 Axes>"
      ]
     },
     "metadata": {},
     "output_type": "display_data"
    }
   ],
   "source": [
    "import matplotlib.pyplot as plt\n",
    "import seaborn as sns\n",
    "\n",
    "sns.heatmap(sim, annot=True)"
   ]
  },
  {
   "cell_type": "markdown",
   "metadata": {},
   "source": [
    "# Another Model\n",
    "The all-* models were trained on all available training data (more than 1 billion training pairs) and are designed as general purpose models. The all-mpnet-base-v2 model provides the best quality, while all-MiniLM-L6-v2 is 5 times faster and still offers good quality. Toggle All models to see all evaluated original models.\n",
    "\n",
    "https://www.sbert.net/docs/sentence_transformer/pretrained_models.html"
   ]
  },
  {
   "cell_type": "code",
   "execution_count": 17,
   "metadata": {},
   "outputs": [
    {
     "data": {
      "text/plain": [
       "SentenceTransformer(\n",
       "  (0): Transformer({'max_seq_length': 384, 'do_lower_case': False}) with Transformer model: MPNetModel \n",
       "  (1): Pooling({'word_embedding_dimension': 768, 'pooling_mode_cls_token': False, 'pooling_mode_mean_tokens': True, 'pooling_mode_max_tokens': False, 'pooling_mode_mean_sqrt_len_tokens': False, 'pooling_mode_weightedmean_tokens': False, 'pooling_mode_lasttoken': False, 'include_prompt': True})\n",
       "  (2): Normalize()\n",
       ")"
      ]
     },
     "execution_count": 17,
     "metadata": {},
     "output_type": "execute_result"
    }
   ],
   "source": [
    "from sentence_transformers import SentenceTransformer\n",
    "\n",
    "model = SentenceTransformer(\"all-mpnet-base-v2\", device='mps')\n",
    "model"
   ]
  },
  {
   "cell_type": "code",
   "execution_count": 18,
   "metadata": {},
   "outputs": [],
   "source": [
    "sentences = [\n",
    "    \"The product broke after just one use. It's a complete waste of money.\",\n",
    "    \"The customer service was outstanding. They resolved my issue in no time.\",\n",
    "    \"The customer service was rude and unhelpful. They didn't solve my issue.\",\n",
    "    \"This restaurant has the best food I've ever tasted. Highly recommended!\",\n",
    "    \"The food at the restaurant was bland and overpriced. I won't be returning.\",\n",
    "]"
   ]
  },
  {
   "cell_type": "code",
   "execution_count": 20,
   "metadata": {},
   "outputs": [
    {
     "data": {
      "text/plain": [
       "array([[-0.00564942, -0.06335307, -0.04110138, ..., -0.00896022,\n",
       "        -0.06124579, -0.05317215],\n",
       "       [ 0.02449037, -0.0197929 , -0.0039826 , ...,  0.00816083,\n",
       "        -0.01272321,  0.01008017],\n",
       "       [ 0.0168136 , -0.04026268,  0.01347185, ...,  0.01396876,\n",
       "        -0.00425833,  0.0085893 ],\n",
       "       [-0.01469973,  0.05580642, -0.01199606, ...,  0.01834516,\n",
       "         0.05696285, -0.0175186 ],\n",
       "       [ 0.01376889,  0.05660284, -0.00071043, ...,  0.02251705,\n",
       "         0.0137848 , -0.00466841]], dtype=float32)"
      ]
     },
     "execution_count": 20,
     "metadata": {},
     "output_type": "execute_result"
    }
   ],
   "source": [
    "embeddings = model.encode(sentences)\n",
    "embeddings"
   ]
  },
  {
   "cell_type": "code",
   "execution_count": 21,
   "metadata": {},
   "outputs": [
    {
     "data": {
      "text/plain": [
       "(5, 768)"
      ]
     },
     "execution_count": 21,
     "metadata": {},
     "output_type": "execute_result"
    }
   ],
   "source": [
    "embeddings.shape"
   ]
  },
  {
   "cell_type": "code",
   "execution_count": 22,
   "metadata": {},
   "outputs": [
    {
     "data": {
      "text/plain": [
       "tensor([[1.0000, 0.2027, 0.3146, 0.0878, 0.2101],\n",
       "        [0.2027, 1.0000, 0.8990, 0.2488, 0.3188],\n",
       "        [0.3146, 0.8990, 1.0000, 0.2024, 0.3506],\n",
       "        [0.0878, 0.2488, 0.2024, 1.0000, 0.6916],\n",
       "        [0.2101, 0.3188, 0.3506, 0.6916, 1.0000]])"
      ]
     },
     "execution_count": 22,
     "metadata": {},
     "output_type": "execute_result"
    }
   ],
   "source": [
    "# Semantic Search\n",
    "similarities = model.similarity(embeddings, embeddings)\n",
    "similarities"
   ]
  },
  {
   "cell_type": "code",
   "execution_count": 23,
   "metadata": {},
   "outputs": [
    {
     "data": {
      "text/plain": [
       "array([[1.        , 0.        , 0.        , 0.        , 0.        ],\n",
       "       [0.20271082, 1.00000012, 0.        , 0.        , 0.        ],\n",
       "       [0.31464747, 0.89902711, 1.        , 0.        , 0.        ],\n",
       "       [0.08775529, 0.2487684 , 0.20236152, 1.00000012, 0.        ],\n",
       "       [0.21014681, 0.31883687, 0.35061213, 0.69163859, 1.00000024]])"
      ]
     },
     "execution_count": 23,
     "metadata": {},
     "output_type": "execute_result"
    }
   ],
   "source": [
    "import numpy as np\n",
    "from sentence_transformers.util import cos_sim\n",
    "\n",
    "sim = np.zeros((len(sentences), len(sentences)))\n",
    "\n",
    "for i in range(len(sentences)):\n",
    "    sim[i:, i] = cos_sim(embeddings[i], embeddings[i:])\n",
    "\n",
    "sim"
   ]
  },
  {
   "cell_type": "code",
   "execution_count": 24,
   "metadata": {},
   "outputs": [
    {
     "data": {
      "text/plain": [
       "<Axes: >"
      ]
     },
     "execution_count": 24,
     "metadata": {},
     "output_type": "execute_result"
    },
    {
     "data": {
      "image/png": "[encoded data removed]",
      "text/plain": [
       "<Figure size 640x480 with 2 Axes>"
      ]
     },
     "metadata": {},
     "output_type": "display_data"
    }
   ],
   "source": [
    "import matplotlib.pyplot as plt\n",
    "import seaborn as sns\n",
    "\n",
    "sns.heatmap(sim, annot=True)"
   ]
  },
  {
   "cell_type": "markdown",
   "metadata": {},
   "source": [
    "# Embeddings:\n",
    "1. Word-Level Embeddings:\n",
    "    - Remember, word-level embeddings are like name tags for each toy (word). They help us understand what each toy is, as a whole.\n",
    "    - Example: \"car\" = [whole toy car]\n",
    "\n",
    "2. Token-Level Embeddings:\n",
    "    - Token-level embeddings are like special labels for each small part of the toy (word). They help us understand what each part (token) is, and how they work together to make the whole toy (word).\n",
    "    - Example: \"car\" = [\"c\" = [sound], \"a\" = [sound], \"r\" = [sound]]\n",
    "\n",
    "3. Sentence-Level Embeddings:\n",
    "    - Sentence-level embeddings are like a special summary label for a group of toys (words) that are played together! They help us understand what the whole group (sentence) means.\n",
    "    - Example: \"The cat chased the car\" = [summary label for the whole sentence]"
   ]
  }
 ],
 "metadata": {
  "kernelspec": {
   "display_name": "env",
   "language": "python",
   "name": "python3"
  },
  "language_info": {
   "codemirror_mode": {
    "name": "ipython",
    "version": 3
   },
   "file_extension": ".py",
   "mimetype": "text/x-python",
   "name": "python",
   "nbconvert_exporter": "python",
   "pygments_lexer": "ipython3",
   "version": "3.10.0"
  }
 },
 "nbformat": 4,
 "nbformat_minor": 2
}
